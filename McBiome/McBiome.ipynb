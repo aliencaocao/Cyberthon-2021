{
 "cells": [
  {
   "cell_type": "code",
   "execution_count": 1,
   "outputs": [
    {
     "name": "stdout",
     "output_type": "stream",
     "text": [
      "INFO:tensorflow:Mixed precision compatibility check (mixed_float16): OK\n",
      "Your GPU will likely run quickly with dtype policy mixed_float16 as it has compute capability of at least 7.0. Your GPU: NVIDIA GeForce RTX 2060 SUPER, compute capability 7.5\n",
      "Training data\n",
      "Found 26187 files belonging to 62 classes.\n",
      "Using 20950 files for training.\n",
      "Found 26187 files belonging to 62 classes.\n",
      "Using 5237 files for validation.\n",
      "\n",
      "train classes: ['badlands', 'badlands_plateau', 'bamboo_jungle', 'bamboo_jungle_hills', 'beach', 'birch_forest', 'birch_forest_hills', 'cold_ocean', 'dark_forest', 'dark_forest_hills', 'deep_cold_ocean', 'deep_frozen_ocean', 'deep_lukewarm_ocean', 'deep_ocean', 'desert', 'desert_hills', 'desert_lakes', 'eroded_badlands', 'flower_forest', 'forest', 'frozen_ocean', 'frozen_river', 'giant_tree_taiga', 'giant_tree_taiga_hills', 'gravelly_mountains', 'ice_spikes', 'jungle', 'jungle_edge', 'jungle_hills', 'lukewarm_ocean', 'modified_gravelly_mountains', 'modified_jungle', 'modified_wooded_badlands_plateau', 'mountains', 'mushroom_field_shore', 'mushroom_fields', 'ocean', 'plains', 'river', 'savanna', 'savanna_plateau', 'shattered_savanna', 'shattered_savanna_plateau', 'snowy_beach', 'snowy_mountains', 'snowy_taiga', 'snowy_taiga_hills', 'snowy_taiga_mountains', 'snowy_tundra', 'stone_shore', 'sunflower_plains', 'swamp', 'swamp_hills', 'taiga', 'taiga_hills', 'taiga_mountains', 'tall_birch_forest', 'tall_birch_hills', 'warm_ocean', 'wooded_badlands_plateau', 'wooded_hills', 'wooded_mountains']\n"
     ]
    }
   ],
   "source": [
    "# Data prep\n",
    "import os, shutil\n",
    "import tensorflow as tf\n",
    "from tensorflow import keras\n",
    "from tensorflow.keras import layers\n",
    "from random import random\n",
    "import pandas as pd\n",
    "from tensorflow.keras.preprocessing.image import ImageDataGenerator\n",
    "keras.mixed_precision.set_global_policy('mixed_float16')\n",
    "\n",
    "# data loading config\n",
    "batch_size = 32\n",
    "img_height = 1920\n",
    "img_width = 1280\n",
    "dataPath = 'train-smaller'\n",
    "labels = 'inferred'  # auto find from folders\n",
    "label_mode = 'categorical'  # one hot encoding\n",
    "color_mode = 'rgb'\n",
    "shuffle = True\n",
    "seed = 69\n",
    "test_split = 0.2  # split into train and test (NOT val), 0-1\n",
    "AUTOTUNE = tf.data.AUTOTUNE\n",
    "train_df = pd.read_csv('train.csv')\n",
    "\n",
    "def split_train_test(dataPath):\n",
    "    for root, dirs, files in os.walk(dataPath):\n",
    "        for name in files:\n",
    "            randomNum = random()\n",
    "            if randomNum <= test_split:\n",
    "                os.makedirs('test\\\\'+root+'\\\\', exist_ok=True)\n",
    "                shutil.move(root+'\\\\'+name, 'test\\\\'+root+'\\\\')\n",
    "\n",
    "# split_train_test(dataPath)  # Only need to run this once\n",
    "\n",
    "print('Training data')\n",
    "train = keras.preprocessing.image_dataset_from_directory(dataPath, labels=labels, label_mode=label_mode,\n",
    "color_mode=color_mode, shuffle=shuffle, subset=\"training\", seed=seed, validation_split=test_split,\n",
    "image_size=(img_height, img_width), batch_size=batch_size)\n",
    "train_class_names = train.class_names\n",
    "\n",
    "val = keras.preprocessing.image_dataset_from_directory(dataPath, labels=labels, label_mode=label_mode,\n",
    "color_mode=color_mode, shuffle=shuffle, subset=\"validation\", seed=seed, validation_split=test_split,\n",
    "image_size=(img_height, img_width), batch_size=batch_size)\n",
    "\n",
    "train = train.cache().prefetch(buffer_size=AUTOTUNE)\n",
    "val = val.cache().prefetch(buffer_size=AUTOTUNE)\n",
    "\n",
    "print()\n",
    "print('train classes:', train_class_names)"
   ],
   "metadata": {
    "collapsed": false,
    "pycharm": {
     "name": "#%%\n"
    }
   }
  },
  {
   "cell_type": "code",
   "execution_count": null,
   "outputs": [
    {
     "name": "stdout",
     "output_type": "stream",
     "text": [
      "Model: \"model\"\n",
      "_________________________________________________________________\n",
      "Layer (type)                 Output Shape              Param #   \n",
      "=================================================================\n",
      "input_1 (InputLayer)         [(None, 1920, 1280, 3)]   0         \n",
      "_________________________________________________________________\n",
      "center_crop (CenterCrop)     (None, 40, 40, 3)         0         \n",
      "_________________________________________________________________\n",
      "flatten (Flatten)            (None, 4800)              0         \n",
      "_________________________________________________________________\n",
      "dense (Dense)                (None, 128)               614528    \n",
      "_________________________________________________________________\n",
      "activation (Activation)      (None, 128)               0         \n",
      "_________________________________________________________________\n",
      "dense_1 (Dense)              (None, 512)               66048     \n",
      "_________________________________________________________________\n",
      "activation_1 (Activation)    (None, 512)               0         \n",
      "_________________________________________________________________\n",
      "dense_2 (Dense)              (None, 62)                31806     \n",
      "_________________________________________________________________\n",
      "activation_2 (Activation)    (None, 62)                0         \n",
      "=================================================================\n",
      "Total params: 712,382\n",
      "Trainable params: 712,382\n",
      "Non-trainable params: 0\n",
      "_________________________________________________________________\n",
      "Epoch 1/100\n",
      " 10/655 [..............................] - ETA: 10:48 - loss: 177.4230 - accuracy: 0.0000e+00  \b\b\b\b\b\b\b\b\b\b\b\b\b\b\b\b\b\b\b\b\b\b\b\b\b\b\b\b\b\b\b\b\b\b\b\b\b\b\b\b\b\b\b\b\b\b\b\b\b\b\b\b\b\b\b\b\b\b\b\b\b\b\b\b\b\b\b\b\b\b\b\b\b\b\b\b\b\b\b\b\b\b\b\b\b\b\b\b\b\b\b\b\b\b\b\b\b\b\b\b\b\b\b\b\b\b\b\b\b\b\b\b\b\b\b\b\b\b\b\b\b\b\b\b\b\b\b\b\b\b\b\b\b\b\b\b\b\b\b\b\b\b\b\b\b\b\b\b\b\b\b\b\b\b\b\b\b\b\b\b\b\b\b\b\b\b\b\b\b\b\b\b\b\b\b\b\b\b\b\b\b\b\b\b\b\b\b\b\b\b\b\b\b\b\b\b\b\b\b\b\b\b\b\b\b\b\b\b\b\b\b\b\b\b\b\b\b\b\b\b\b\b\b\b\b\b\b\b\b\b\b\b\b\b\b\b\b\b\b\b\b\b\b\b\b\b\b\b\b\b\b\b\b\b\b\b\b\b\b\b\b\b\b\b\b\b\b\b\b\b\b\b\b\b\b\b\b\b\b\b\b\b\b\b\b\b\b\b\b\b\b\b\b\b\b\b\b\b\b\b\b\b\b\b\b\b\b\b\b\b\b\b\b\b\b\b\b\b\b\b\b\b\b\b\b\b\b\b\b\b\b\b\b\b\b\b\b\b\b\b\b\b\b\b\b\b\b\b\b\b\b\b\b\b\b\b\b\b\b\b\b\b\b\b\b\b\b\b\b\b\b\b\b\b\b\b\b\b\b\b\b\b\b\b\b\b\b\b\b\b\b\b\b\b\b\b\b\b\b\b\b\b\b\b\b\b\b\b\b\b\b\b\b\b\b\b\b\b\b\b\b\b\b\b\b\b\b\b\b\b\b\b\b\b\b\b\b\b\b\b\b\b\b\b\b\b\b\b\b\b\b\b\b\b\b\b\b\b\b\b\b\b\b\b\b\b\b\b\b\b\b\b\b\b\b\b\b\b\b\b\b\b\b\b\b\b\b\b\b\b\b\b\b\b\b\b\b\b\b\b\b\b\b\b\b\b\b\b\b\b\b\b\b\b\b\b\b\b\b\b\b\b\b\b\b\b\b\b\b\b\b\b\b\b\b\b\b\b\b\b\b\b\b\b\b\b\b\b\b\b\b\b\b\b\b\b\b\b\b\b\b\b\b\b\b\b\b\b\b\b\b\b\b\b\b\b\b\b\b\b\b\b\b\b\b\b\b\b\b\b\b\b\b\b\b\b\b\b\b\b\b\b\b\b\b\b\b\b\b\b\b\b\b\b\b\b\b\b\b\b\b\b\b\b\b\b\b\b\b\b\b\b\b\b\b\b\b\b\b\b\b\b\b\b\b\b\b\b\b\b\b\b\b\b\b\b\b\b\b\b\b\b\b\b\b\b\b\b\b\b\b\b\b\b\b\b\b\b\b\b\b\b\b\b\b\b\b\b\b\b\b\b\b\b\b\b\b\b\b\b\b\b\b\b\b\b\b\b\b\b\b\b\b\b\b\b\b\b\b\b\b\b\b\b\b\b\b\b\b\b\b\b\b\b\b\b\b\b\b\b\b\b\b\b\b\b\b\b\b\b\b\b\b\b\b\b\b\b\b\b\b\b\b\b\b\b\b\b\b\b\b\b\b\b\b\b\b\b\b\b\b\b\b\b\b\b\b\b\b\b\b\b\b\b\b\b\b\b\b\b\b\b\b\b\b\b\b\b\b\b\b\b\b\b\b\b\b\b\b\b\b\b\b\b\b\b\b\b\b\b\b\b\b\b\b\b\b\b\b"
     ]
    }
   ],
   "source": [
    "opt = keras.optimizers.Adam(lr=1e-3, epsilon=1e-6)\n",
    "loss = tf.keras.losses.CategoricalCrossentropy(from_logits=True)\n",
    "epoch = 100\n",
    "batch_size = 64\n",
    "callbacks = [\n",
    "    tf.keras.callbacks.EarlyStopping(monitor='val_accuracy', min_delta=0, patience=15, verbose=1,\n",
    "                                     mode='auto', baseline=None, restore_best_weights=True),\n",
    "    tf.keras.callbacks.ModelCheckpoint('./best_model',monitor='val_accuracy',save_best_only=True),\n",
    "    tf.keras.callbacks.ReduceLROnPlateau(monitor='val_accuracy', factor=0.05, patience=10, verbose=1)\n",
    "]\n",
    "\n",
    "# model layers\n",
    "xInput = layers.Input((img_height, img_width, 3))  # get resolutions, ignore batch size\n",
    "x = layers.experimental.preprocessing.CenterCrop(40, 40)(xInput)\n",
    "x = layers.Flatten()(x)\n",
    "x = layers.Dense(128)(x)\n",
    "x = layers.Activation('relu')(x)\n",
    "x = layers.Dense(512)(x)\n",
    "x = layers.Activation('relu')(x)\n",
    "x = layers.Dense(len(train_class_names))(x)  # a probability for each class so need same no as classes\n",
    "xOutput = layers.Activation('softmax')(x)\n",
    "\n",
    "model = keras.Model(xInput, xOutput)\n",
    "model.compile(optimizer=opt, loss=loss, metrics='accuracy')\n",
    "model.summary()\n",
    "model.fit(train, validation_data=val, batch_size=batch_size, epochs=epoch, callbacks=callbacks, verbose=1)"
   ],
   "metadata": {
    "collapsed": false,
    "pycharm": {
     "name": "#%%\n"
    }
   }
  },
  {
   "cell_type": "code",
   "execution_count": 12,
   "outputs": [
    {
     "name": "stdout",
     "output_type": "stream",
     "text": [
      "Found 11261 files belonging to 1 classes.\n"
     ]
    },
    {
     "data": {
      "text/plain": "['test']"
     },
     "execution_count": 12,
     "metadata": {},
     "output_type": "execute_result"
    }
   ],
   "source": [
    "test = keras.preprocessing.image_dataset_from_directory('test-release/',\n",
    "color_mode=color_mode, shuffle=False, label_mode=None,\n",
    "image_size=(img_height, img_width), batch_size=batch_size)\n",
    "print(test.class_names)\n",
    "\n",
    "# model.predict(test)"
   ],
   "metadata": {
    "collapsed": false,
    "pycharm": {
     "name": "#%%\n"
    }
   }
  }
 ],
 "metadata": {
  "kernelspec": {
   "display_name": "Python 3",
   "language": "python",
   "name": "python3"
  },
  "language_info": {
   "codemirror_mode": {
    "name": "ipython",
    "version": 2
   },
   "file_extension": ".py",
   "mimetype": "text/x-python",
   "name": "python",
   "nbconvert_exporter": "python",
   "pygments_lexer": "ipython2",
   "version": "2.7.6"
  }
 },
 "nbformat": 4,
 "nbformat_minor": 0
}