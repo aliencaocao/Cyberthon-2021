{
 "cells": [
  {
   "cell_type": "code",
   "execution_count": 2,
   "metadata": {
    "collapsed": true
   },
   "outputs": [
    {
     "name": "stdout",
     "output_type": "stream",
     "text": [
      "1.004\n",
      "Unknown is 0.8031636183885318%\n"
     ]
    }
   ],
   "source": [
    "def x(y):\n",
    "    return (y-0.1916)/101.15\n",
    "unknown  = (0.938+1.070)/2\n",
    "print(unknown)\n",
    "print(f'Unknown is {x(unknown) * 100}%')"
   ]
  }
 ],
 "metadata": {
  "kernelspec": {
   "display_name": "Python 3",
   "language": "python",
   "name": "python3"
  },
  "language_info": {
   "codemirror_mode": {
    "name": "ipython",
    "version": 2
   },
   "file_extension": ".py",
   "mimetype": "text/x-python",
   "name": "python",
   "nbconvert_exporter": "python",
   "pygments_lexer": "ipython2",
   "version": "2.7.6"
  }
 },
 "nbformat": 4,
 "nbformat_minor": 0
}