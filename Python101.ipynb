{
 "cells": [
  {
   "cell_type": "markdown",
   "metadata": {},
   "source": [
    "# Cyberthon | Python 101\n",
    "Cyberthon 2020 is organised by CSIT, DCO, Hwa Chong and supported by Alt-Tab Labs LLP\n",
    "\n",
    "Python is a popular programming language, particularly for data science and machine learning. We will be using **Python 3** for most if not all of our work. Python 2.7 is a legacy port and will not be maintained past 2020.\n",
    "\n",
    "Find out more:\n",
    "- https://www.python.org/\n",
    "- https://runestone.academy/runestone/books/published/fopp/index.html (Extremely Comprehensive)\n",
    "- https://www.w3schools.com/python/ (Really great tutorial)\n",
    "- http://pythontutor.com/visualize.html (Good for visualisation)"
   ]
  },
  {
   "cell_type": "code",
   "execution_count": 1,
   "metadata": {},
   "outputs": [
    {
     "name": "stdout",
     "output_type": "stream",
     "text": [
      "Hello World!\n"
     ]
    }
   ],
   "source": [
    "# STEREOTYPICAL FIRST PROGRAM\n",
    "print(\"Hello World!\")"
   ]
  },
  {
   "cell_type": "code",
   "execution_count": 2,
   "metadata": {},
   "outputs": [
    {
     "name": "stdout",
     "output_type": "stream",
     "text": [
      "Hello World!\n",
      "Multiplication ==> 131.922\n",
      "List[2] ==> 3\n",
      "Equality ==> True False True False False\n"
     ]
    }
   ],
   "source": [
    "# Examples of Variables\n",
    "# More Practice: https://www.w3schools.com/python/python_variables.asp\n",
    "\n",
    "iamaINTEGER = 42\n",
    "iamaFLOAT = 3.141\n",
    "iamaSTRING = \"Hello World!\"\n",
    "iamaBOOLEAN = True\n",
    "iamaLIST = [1, 2, 3, \"four\"]\n",
    "\n",
    "print(iamaSTRING)\n",
    "print(\"Multiplication ==>\", iamaINTEGER * iamaFLOAT)\n",
    "print(\"List[2] ==>\", iamaLIST[2])\n",
    "print(\"Equality ==>\", 1 == 1, 1 == 2, 1 < 2, 1 > 2, 1 != 1)"
   ]
  },
  {
   "cell_type": "code",
   "execution_count": 3,
   "metadata": {},
   "outputs": [
    {
     "name": "stdout",
     "output_type": "stream",
     "text": [
      "130\n",
      "70\n",
      "3000\n",
      "3.3333333333333335\n",
      "3\n"
     ]
    }
   ],
   "source": [
    "# Math\n",
    "\n",
    "print(100 +  30) # add\n",
    "print(100 -  30) # sub\n",
    "print(100 *  30) # mul\n",
    "print(100 /  30) # div\n",
    "print(100 // 30) # floordiv"
   ]
  },
  {
   "cell_type": "code",
   "execution_count": 4,
   "metadata": {},
   "outputs": [
    {
     "name": "stdout",
     "output_type": "stream",
     "text": [
      "0.2 0.2\n"
     ]
    }
   ],
   "source": [
    "# Functions\n",
    "# https://www.w3schools.com/python/python_functions.asp\n",
    "\n",
    "def sqrt(a):\n",
    "    return a**0.5\n",
    "\n",
    "def invsqrt(a):\n",
    "    return 1 / sqrt(a)\n",
    "\n",
    "print(invsqrt(25), 1/5)"
   ]
  },
  {
   "cell_type": "code",
   "execution_count": 5,
   "metadata": {},
   "outputs": [
    {
     "name": "stdout",
     "output_type": "stream",
     "text": [
      "0 HELLO\n",
      "1 HELLO\n",
      "2 HELLO\n",
      "3 HELLO\n",
      "4 HELLO\n",
      "5 HELLO\n",
      "6 HELLO\n",
      "7 HELLO\n",
      "8 HELLO\n",
      "9 HELLO\n"
     ]
    }
   ],
   "source": [
    "# For Loops\n",
    "# https://www.w3schools.com/python/python_for_loops.asp\n",
    "\n",
    "for i in range(10): # loop 10 times\n",
    "    print(i, \"HELLO\")"
   ]
  },
  {
   "cell_type": "code",
   "execution_count": 6,
   "metadata": {},
   "outputs": [
    {
     "name": "stdout",
     "output_type": "stream",
     "text": [
      "0\n",
      "1\n",
      "2\n",
      "3\n",
      "4\n",
      "5\n",
      "6\n",
      "7\n",
      "8\n",
      "9\n"
     ]
    }
   ],
   "source": [
    "# While Loops\n",
    "\n",
    "x = 0\n",
    "while x < 10:\n",
    "    print(x)\n",
    "    x += 1"
   ]
  },
  {
   "cell_type": "code",
   "execution_count": 7,
   "metadata": {},
   "outputs": [
    {
     "name": "stdout",
     "output_type": "stream",
     "text": [
      "20 is bigger than 10\n",
      "20 is bigger than 10\n",
      "They are equal 20 == 20\n"
     ]
    }
   ],
   "source": [
    "# Conditionals\n",
    "# https://www.w3schools.com/python/python_conditions.asp\n",
    "\n",
    "def whoisbigger(A, B):\n",
    "    if A > B:\n",
    "        return str(A) + \" is bigger than \" + str(B)\n",
    "    elif A < B:\n",
    "        return str(B) + \" is bigger than \" + str(A)\n",
    "    else:\n",
    "        return \"They are equal \" + str(A) + \" == \" + str(B)\n",
    "        \n",
    "\n",
    "print(whoisbigger(10, 20))\n",
    "print(whoisbigger(20, 10))\n",
    "print(whoisbigger(20, 20))"
   ]
  },
  {
   "cell_type": "code",
   "execution_count": 2,
   "metadata": {},
   "outputs": [
    {
     "name": "stdout",
     "output_type": "stream",
     "text": [
      "Area of Circle of radius 3  is  28.274333882308138\n"
     ]
    },
    {
     "data": {
      "text/plain": "'\\x01'"
     },
     "execution_count": 2,
     "metadata": {},
     "output_type": "execute_result"
    }
   ],
   "source": [
    "# Using Modules aka Libraries\n",
    "\n",
    "import math\n",
    "\n",
    "radius = 3\n",
    "area = math.pi * radius**2\n",
    "\n",
    "print(\"Area of Circle of radius\", radius, \" is \", area)\n",
    "chr(1)"
   ]
  },
  {
   "cell_type": "markdown",
   "metadata": {},
   "source": [
    "# Flag Challenge"
   ]
  },
  {
   "cell_type": "code",
   "execution_count": 4,
   "metadata": {},
   "outputs": [
    {
     "name": "stdout",
     "output_type": "stream",
     "text": [
      "plaintext: The flag is CTFSG{I_thought_this_was_a_snake}! Yay you did it\n"
     ]
    }
   ],
   "source": [
    "# The flag was encrypted by increasing the ascii value of each char by 1\n",
    "# A ==> B\n",
    "# Z ==> [\n",
    "# <space> ==> !\n",
    "# https://en.wikipedia.org/wiki/File:ASCII-Table-wide.svg\n",
    "\n",
    "ciphertext = 'Uif!gmbh!jt!DUGTH|J`uipvhiu`uijt`xbt`b`toblf~\"!Zbz!zpv!eje!ju'\n",
    "plaintext = ''\n",
    "for i in ciphertext:\n",
    "    num = ord(i) - 1\n",
    "    plaintext += chr(num)\n",
    "\n",
    "# TODO: Loop through each char in ciphertext\n",
    "# TODO: Calculate char one smaller than in ciphertext\n",
    "# TODO: Append found char to plaintext\n",
    "\n",
    "print('plaintext:', plaintext)"
   ]
  },
  {
   "cell_type": "markdown",
   "metadata": {},
   "source": [
    "![https://upload.wikimedia.org/wikipedia/commons/thumb/1/1b/ASCII-Table-wide.svg/875px-ASCII-Table-wide.svg.png](https://upload.wikimedia.org/wikipedia/commons/thumb/1/1b/ASCII-Table-wide.svg/875px-ASCII-Table-wide.svg.png)"
   ]
  },
  {
   "cell_type": "markdown",
   "metadata": {},
   "source": [
    "## Other Sample Programs"
   ]
  },
  {
   "cell_type": "code",
   "execution_count": 10,
   "metadata": {
    "scrolled": true
   },
   "outputs": [
    {
     "name": "stdout",
     "output_type": "stream",
     "text": [
      "Prime #1 is 2\n",
      "Prime #2 is 3\n",
      "Prime #3 is 5\n",
      "Prime #4 is 7\n",
      "Prime #5 is 11\n",
      "Prime #6 is 13\n",
      "Prime #7 is 17\n",
      "Prime #8 is 19\n",
      "Prime #9 is 23\n",
      "Prime #10 is 29\n",
      "Prime #11 is 31\n",
      "Prime #12 is 37\n",
      "Prime #13 is 41\n",
      "Prime #14 is 43\n",
      "Prime #15 is 47\n"
     ]
    }
   ],
   "source": [
    "# Sample Program: Find Primes\n",
    "\n",
    "MAX = 50\n",
    "pNum = 0\n",
    "\n",
    "for i in range(2, MAX):\n",
    "    isprime = True\n",
    "    \n",
    "    for j in range(2, i):\n",
    "        if i % j == 0:\n",
    "            isprime = False\n",
    "            break\n",
    "    \n",
    "    if isprime:\n",
    "        pNum += 1\n",
    "        print('Prime #%d is %d'%(pNum, i))"
   ]
  },
  {
   "cell_type": "code",
   "execution_count": 11,
   "metadata": {},
   "outputs": [
    {
     "name": "stdout",
     "output_type": "stream",
     "text": [
      "{'ip': '202.166.13.55', 'ip_decimal': 3399879991, 'country': 'Singapore', 'country_eu': False, 'country_iso': 'SG', 'city': 'Singapore', 'hostname': 'bb202.166.13.55.singnet.com.sg', 'latitude': 1.3224, 'longitude': 103.7889, 'asn': 'AS9506', 'asn_org': 'Singtel Fibre Broadband', 'user_agent': {'product': 'python-requests', 'version': '2.22.0', 'raw_value': 'python-requests/2.22.0'}}\n",
      "--------------------------------\n",
      "My IP addr: 202.166.13.55\n",
      "My IP location: Singapore, Singapore, SG\n",
      "My Internet Service Provider: Singtel Fibre Broadband\n"
     ]
    }
   ],
   "source": [
    "# Sample Program: Web Request\n",
    "\n",
    "import requests\n",
    "\n",
    "r1 = requests.get(\"https://ifconfig.co/json\")\n",
    "print(r1.json())\n",
    "print(\"-\" * 32)\n",
    "print(\"My IP addr:\", r1.json()['ip'])\n",
    "print(\"My IP location:\", \"%s, %s, %s\"%( r1.json()['city'], r1.json()['country'], r1.json()['country_iso']))\n",
    "print(\"My Internet Service Provider:\", r1.json()['asn_org'])"
   ]
  }
 ],
 "metadata": {
  "kernelspec": {
   "display_name": "Python 3",
   "language": "python",
   "name": "python3"
  },
  "language_info": {
   "codemirror_mode": {
    "name": "ipython",
    "version": 3
   },
   "file_extension": ".py",
   "mimetype": "text/x-python",
   "name": "python",
   "nbconvert_exporter": "python",
   "pygments_lexer": "ipython3",
   "version": "3.7.4"
  }
 },
 "nbformat": 4,
 "nbformat_minor": 2
}