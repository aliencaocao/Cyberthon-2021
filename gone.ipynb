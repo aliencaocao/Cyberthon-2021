{
 "cells": [
  {
   "cell_type": "code",
   "execution_count": null,
   "metadata": {
    "collapsed": true
   },
   "outputs": [],
   "source": [
    "from random import randint\n",
    "\n",
    "data = open('flag.txt', 'rb').read().strip()\n",
    "\n",
    "data1 = data[::2]\n",
    "data2 = data[1::2]  # first\n",
    "data3 = []\n",
    "\n",
    "assert len(data1) == len(data2)\n",
    "\n",
    "for i, j in zip(data1, data2):\n",
    "    data3.append(i ^ j)\n",
    "\n",
    "output = []\n",
    "\n",
    "if (randint(0, 1000) % 2):\n",
    "    print('aaand... data1 is gone!')\n",
    "    for i, j in zip(data2, data3):\n",
    "        output.append(j)\n",
    "        output.append(i)\n",
    "    open('flag.corrupted', 'wb').write(bytes(output))\n",
    "else:\n",
    "    print('aaand... data2 is gone!')\n",
    "    for i, j in zip(data1, data3):\n",
    "        output.append(i)\n",
    "        output.append(j)\n",
    "    open('flag.corrupted', 'wb').write(bytes(output))"
   ]
  },
  {
   "cell_type": "code",
   "execution_count": null,
   "outputs": [],
   "source": [
    "with open(\"myfile\", \"rb\") as f:\n",
    "    byte = f.read(1)\n",
    "    while byte:\n",
    "        # Do stuff with byte.\n",
    "        byte = f.read(1)"
   ],
   "metadata": {
    "collapsed": false,
    "pycharm": {
     "name": "#%%\n"
    }
   }
  }
 ],
 "metadata": {
  "kernelspec": {
   "display_name": "Python 3",
   "language": "python",
   "name": "python3"
  },
  "language_info": {
   "codemirror_mode": {
    "name": "ipython",
    "version": 2
   },
   "file_extension": ".py",
   "mimetype": "text/x-python",
   "name": "python",
   "nbconvert_exporter": "python",
   "pygments_lexer": "ipython2",
   "version": "2.7.6"
  }
 },
 "nbformat": 4,
 "nbformat_minor": 0
}