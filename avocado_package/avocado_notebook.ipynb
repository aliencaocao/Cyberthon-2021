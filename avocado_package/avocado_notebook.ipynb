{
 "cells": [
  {
   "cell_type": "markdown",
   "metadata": {},
   "source": [
    "# Avocado Data Analysis Notebook\n",
    "ALT-TAB LABS LLP &copy; 2020 All Rights Reserved"
   ]
  },
  {
   "cell_type": "code",
   "execution_count": 6,
   "metadata": {},
   "outputs": [],
   "source": [
    "# load csvs\n",
    "import pandas as pd\n",
    "df = pd.read_csv('avocado-train.csv', index_col='id')"
   ]
  },
  {
   "cell_type": "code",
   "execution_count": 9,
   "metadata": {
    "scrolled": true
   },
   "outputs": [
    {
     "data": {
      "text/plain": "    DataBatch        Date  TotalVolume      4046       4225     4770  \\\nid                                                                     \n0           7  2016-11-06    183542.31  98949.98   22891.61    95.00   \n1          24  2017-07-16    224434.92  42951.31  120360.02   131.85   \n2          51  2015-01-04      3846.69   1500.15     938.35     0.00   \n3          22  2015-07-26     91825.07   1679.28   45615.48   741.77   \n4          50  2015-01-11     54644.32   1491.88   33759.12  1325.17   \n\n    TotalBags  SmallBags  LargeBags  XLargeBags          type  \\\nid                                                              \n0    61605.72   43571.99   17499.01      534.72  conventional   \n1    60991.74   53141.81    3621.04     4228.89  conventional   \n2     1408.19    1071.35     336.84        0.00       organic   \n3    43788.54   43788.54       0.00        0.00  conventional   \n4    18068.15   12165.94    5902.21        0.00  conventional   \n\n                region  AveragePrice  \nid                                    \n0     NewOrleansMobile          1.49  \n1   HarrisburgScranton          1.38  \n2              Atlanta          1.76  \n3     BuffaloRochester          1.39  \n4           Pittsburgh          1.54  ",
      "text/html": "<div>\n<style scoped>\n    .dataframe tbody tr th:only-of-type {\n        vertical-align: middle;\n    }\n\n    .dataframe tbody tr th {\n        vertical-align: top;\n    }\n\n    .dataframe thead th {\n        text-align: right;\n    }\n</style>\n<table border=\"1\" class=\"dataframe\">\n  <thead>\n    <tr style=\"text-align: right;\">\n      <th></th>\n      <th>DataBatch</th>\n      <th>Date</th>\n      <th>TotalVolume</th>\n      <th>4046</th>\n      <th>4225</th>\n      <th>4770</th>\n      <th>TotalBags</th>\n      <th>SmallBags</th>\n      <th>LargeBags</th>\n      <th>XLargeBags</th>\n      <th>type</th>\n      <th>region</th>\n      <th>AveragePrice</th>\n    </tr>\n    <tr>\n      <th>id</th>\n      <th></th>\n      <th></th>\n      <th></th>\n      <th></th>\n      <th></th>\n      <th></th>\n      <th></th>\n      <th></th>\n      <th></th>\n      <th></th>\n      <th></th>\n      <th></th>\n      <th></th>\n    </tr>\n  </thead>\n  <tbody>\n    <tr>\n      <th>0</th>\n      <td>7</td>\n      <td>2016-11-06</td>\n      <td>183542.31</td>\n      <td>98949.98</td>\n      <td>22891.61</td>\n      <td>95.00</td>\n      <td>61605.72</td>\n      <td>43571.99</td>\n      <td>17499.01</td>\n      <td>534.72</td>\n      <td>conventional</td>\n      <td>NewOrleansMobile</td>\n      <td>1.49</td>\n    </tr>\n    <tr>\n      <th>1</th>\n      <td>24</td>\n      <td>2017-07-16</td>\n      <td>224434.92</td>\n      <td>42951.31</td>\n      <td>120360.02</td>\n      <td>131.85</td>\n      <td>60991.74</td>\n      <td>53141.81</td>\n      <td>3621.04</td>\n      <td>4228.89</td>\n      <td>conventional</td>\n      <td>HarrisburgScranton</td>\n      <td>1.38</td>\n    </tr>\n    <tr>\n      <th>2</th>\n      <td>51</td>\n      <td>2015-01-04</td>\n      <td>3846.69</td>\n      <td>1500.15</td>\n      <td>938.35</td>\n      <td>0.00</td>\n      <td>1408.19</td>\n      <td>1071.35</td>\n      <td>336.84</td>\n      <td>0.00</td>\n      <td>organic</td>\n      <td>Atlanta</td>\n      <td>1.76</td>\n    </tr>\n    <tr>\n      <th>3</th>\n      <td>22</td>\n      <td>2015-07-26</td>\n      <td>91825.07</td>\n      <td>1679.28</td>\n      <td>45615.48</td>\n      <td>741.77</td>\n      <td>43788.54</td>\n      <td>43788.54</td>\n      <td>0.00</td>\n      <td>0.00</td>\n      <td>conventional</td>\n      <td>BuffaloRochester</td>\n      <td>1.39</td>\n    </tr>\n    <tr>\n      <th>4</th>\n      <td>50</td>\n      <td>2015-01-11</td>\n      <td>54644.32</td>\n      <td>1491.88</td>\n      <td>33759.12</td>\n      <td>1325.17</td>\n      <td>18068.15</td>\n      <td>12165.94</td>\n      <td>5902.21</td>\n      <td>0.00</td>\n      <td>conventional</td>\n      <td>Pittsburgh</td>\n      <td>1.54</td>\n    </tr>\n  </tbody>\n</table>\n</div>"
     },
     "execution_count": 9,
     "metadata": {},
     "output_type": "execute_result"
    }
   ],
   "source": [
    "# View the data!\n",
    "df.head()\n",
    "#TODO TODO TODO TODO TODO TODO TODO TODO"
   ]
  },
  {
   "cell_type": "code",
   "execution_count": 8,
   "metadata": {},
   "outputs": [
    {
     "data": {
      "text/plain": "       DataBatch        Date  TotalVolume      4046       4225      4770  \\\nid                                                                         \n0              7  2016-11-06    183542.31  98949.98   22891.61     95.00   \n1             24  2017-07-16    224434.92  42951.31  120360.02    131.85   \n2             51  2015-01-04      3846.69   1500.15     938.35      0.00   \n3             22  2015-07-26     91825.07   1679.28   45615.48    741.77   \n4             50  2015-01-11     54644.32   1491.88   33759.12   1325.17   \n...          ...         ...          ...       ...        ...       ...   \n12769         31  2016-05-22      3894.15     81.14    3124.78      0.00   \n12770         15  2017-09-17    192447.11  56017.67   64593.12   5176.80   \n12771         10  2015-10-18     73799.28  15960.20   48820.15      3.09   \n12772         28  2015-06-14    277578.88  42766.16  140403.76   2028.31   \n12773         51  2016-01-03    203961.88  42856.88   87749.01  31682.42   \n\n       TotalBags  SmallBags  LargeBags  XLargeBags          type  \\\nid                                                                 \n0       61605.72   43571.99   17499.01      534.72  conventional   \n1       60991.74   53141.81    3621.04     4228.89  conventional   \n2        1408.19    1071.35     336.84        0.00       organic   \n3       43788.54   43788.54       0.00        0.00  conventional   \n4       18068.15   12165.94    5902.21        0.00  conventional   \n...          ...        ...        ...         ...           ...   \n12769     688.23       0.00     688.23        0.00       organic   \n12770   66659.52   62156.95    4502.57        0.00  conventional   \n12771    9015.84    7988.73    1027.11        0.00       organic   \n12772   92380.65   87952.58    2821.41     1606.66  conventional   \n12773   41673.57   38144.36    3529.21        0.00  conventional   \n\n                   region  AveragePrice  \nid                                       \n0        NewOrleansMobile          1.49  \n1      HarrisburgScranton          1.38  \n2                 Atlanta          1.76  \n3        BuffaloRochester          1.39  \n4              Pittsburgh          1.54  \n...                   ...           ...  \n12769             Spokane          1.49  \n12770           Charlotte          1.61  \n12771          California          2.01  \n12772  HarrisburgScranton          1.13  \n12773           Charlotte          0.96  \n\n[12774 rows x 13 columns]",
      "text/html": "<div>\n<style scoped>\n    .dataframe tbody tr th:only-of-type {\n        vertical-align: middle;\n    }\n\n    .dataframe tbody tr th {\n        vertical-align: top;\n    }\n\n    .dataframe thead th {\n        text-align: right;\n    }\n</style>\n<table border=\"1\" class=\"dataframe\">\n  <thead>\n    <tr style=\"text-align: right;\">\n      <th></th>\n      <th>DataBatch</th>\n      <th>Date</th>\n      <th>TotalVolume</th>\n      <th>4046</th>\n      <th>4225</th>\n      <th>4770</th>\n      <th>TotalBags</th>\n      <th>SmallBags</th>\n      <th>LargeBags</th>\n      <th>XLargeBags</th>\n      <th>type</th>\n      <th>region</th>\n      <th>AveragePrice</th>\n    </tr>\n    <tr>\n      <th>id</th>\n      <th></th>\n      <th></th>\n      <th></th>\n      <th></th>\n      <th></th>\n      <th></th>\n      <th></th>\n      <th></th>\n      <th></th>\n      <th></th>\n      <th></th>\n      <th></th>\n      <th></th>\n    </tr>\n  </thead>\n  <tbody>\n    <tr>\n      <th>0</th>\n      <td>7</td>\n      <td>2016-11-06</td>\n      <td>183542.31</td>\n      <td>98949.98</td>\n      <td>22891.61</td>\n      <td>95.00</td>\n      <td>61605.72</td>\n      <td>43571.99</td>\n      <td>17499.01</td>\n      <td>534.72</td>\n      <td>conventional</td>\n      <td>NewOrleansMobile</td>\n      <td>1.49</td>\n    </tr>\n    <tr>\n      <th>1</th>\n      <td>24</td>\n      <td>2017-07-16</td>\n      <td>224434.92</td>\n      <td>42951.31</td>\n      <td>120360.02</td>\n      <td>131.85</td>\n      <td>60991.74</td>\n      <td>53141.81</td>\n      <td>3621.04</td>\n      <td>4228.89</td>\n      <td>conventional</td>\n      <td>HarrisburgScranton</td>\n      <td>1.38</td>\n    </tr>\n    <tr>\n      <th>2</th>\n      <td>51</td>\n      <td>2015-01-04</td>\n      <td>3846.69</td>\n      <td>1500.15</td>\n      <td>938.35</td>\n      <td>0.00</td>\n      <td>1408.19</td>\n      <td>1071.35</td>\n      <td>336.84</td>\n      <td>0.00</td>\n      <td>organic</td>\n      <td>Atlanta</td>\n      <td>1.76</td>\n    </tr>\n    <tr>\n      <th>3</th>\n      <td>22</td>\n      <td>2015-07-26</td>\n      <td>91825.07</td>\n      <td>1679.28</td>\n      <td>45615.48</td>\n      <td>741.77</td>\n      <td>43788.54</td>\n      <td>43788.54</td>\n      <td>0.00</td>\n      <td>0.00</td>\n      <td>conventional</td>\n      <td>BuffaloRochester</td>\n      <td>1.39</td>\n    </tr>\n    <tr>\n      <th>4</th>\n      <td>50</td>\n      <td>2015-01-11</td>\n      <td>54644.32</td>\n      <td>1491.88</td>\n      <td>33759.12</td>\n      <td>1325.17</td>\n      <td>18068.15</td>\n      <td>12165.94</td>\n      <td>5902.21</td>\n      <td>0.00</td>\n      <td>conventional</td>\n      <td>Pittsburgh</td>\n      <td>1.54</td>\n    </tr>\n    <tr>\n      <th>...</th>\n      <td>...</td>\n      <td>...</td>\n      <td>...</td>\n      <td>...</td>\n      <td>...</td>\n      <td>...</td>\n      <td>...</td>\n      <td>...</td>\n      <td>...</td>\n      <td>...</td>\n      <td>...</td>\n      <td>...</td>\n      <td>...</td>\n    </tr>\n    <tr>\n      <th>12769</th>\n      <td>31</td>\n      <td>2016-05-22</td>\n      <td>3894.15</td>\n      <td>81.14</td>\n      <td>3124.78</td>\n      <td>0.00</td>\n      <td>688.23</td>\n      <td>0.00</td>\n      <td>688.23</td>\n      <td>0.00</td>\n      <td>organic</td>\n      <td>Spokane</td>\n      <td>1.49</td>\n    </tr>\n    <tr>\n      <th>12770</th>\n      <td>15</td>\n      <td>2017-09-17</td>\n      <td>192447.11</td>\n      <td>56017.67</td>\n      <td>64593.12</td>\n      <td>5176.80</td>\n      <td>66659.52</td>\n      <td>62156.95</td>\n      <td>4502.57</td>\n      <td>0.00</td>\n      <td>conventional</td>\n      <td>Charlotte</td>\n      <td>1.61</td>\n    </tr>\n    <tr>\n      <th>12771</th>\n      <td>10</td>\n      <td>2015-10-18</td>\n      <td>73799.28</td>\n      <td>15960.20</td>\n      <td>48820.15</td>\n      <td>3.09</td>\n      <td>9015.84</td>\n      <td>7988.73</td>\n      <td>1027.11</td>\n      <td>0.00</td>\n      <td>organic</td>\n      <td>California</td>\n      <td>2.01</td>\n    </tr>\n    <tr>\n      <th>12772</th>\n      <td>28</td>\n      <td>2015-06-14</td>\n      <td>277578.88</td>\n      <td>42766.16</td>\n      <td>140403.76</td>\n      <td>2028.31</td>\n      <td>92380.65</td>\n      <td>87952.58</td>\n      <td>2821.41</td>\n      <td>1606.66</td>\n      <td>conventional</td>\n      <td>HarrisburgScranton</td>\n      <td>1.13</td>\n    </tr>\n    <tr>\n      <th>12773</th>\n      <td>51</td>\n      <td>2016-01-03</td>\n      <td>203961.88</td>\n      <td>42856.88</td>\n      <td>87749.01</td>\n      <td>31682.42</td>\n      <td>41673.57</td>\n      <td>38144.36</td>\n      <td>3529.21</td>\n      <td>0.00</td>\n      <td>conventional</td>\n      <td>Charlotte</td>\n      <td>0.96</td>\n    </tr>\n  </tbody>\n</table>\n<p>12774 rows × 13 columns</p>\n</div>"
     },
     "execution_count": 8,
     "metadata": {},
     "output_type": "execute_result"
    }
   ],
   "source": [
    "# Clean Data\n",
    "\n",
    "# Drops missing values \n",
    "df.dropna()\n",
    "\n",
    "# Convert strings to numbers\n",
    "#TODO TODO TODO TODO TODO TODO TODO TODO\n",
    "\n",
    "# Read more advanced ways to clean data\n",
    "# https://scikit-learn.org/stable/modules/generated/sklearn.preprocessing.LabelEncoder.html\n",
    "# https://stackoverflow.com/questions/24458645/label-encoding-across-multiple-columns-in-scikit-learn"
   ]
  },
  {
   "cell_type": "code",
   "execution_count": null,
   "metadata": {},
   "outputs": [],
   "source": [
    "# Select data for learning\n",
    "features = [] #TODO TODO TODO TODO TODO TODO TODO TODO\n",
    "\n",
    "X = None #TODO TODO TODO TODO TODO TODO TODO TODO\n",
    "y = None #TODO TODO TODO TODO TODO TODO TODO TODO"
   ]
  },
  {
   "cell_type": "code",
   "execution_count": null,
   "metadata": {},
   "outputs": [],
   "source": [
    "X.head()\n",
    "#y.head()"
   ]
  },
  {
   "cell_type": "markdown",
   "metadata": {},
   "source": [
    "# Regression Time!"
   ]
  },
  {
   "cell_type": "code",
   "execution_count": null,
   "metadata": {},
   "outputs": [],
   "source": [
    "# Sci Kit Learn! Scientific Computing library for python\n",
    "from sklearn import *"
   ]
  },
  {
   "cell_type": "code",
   "execution_count": null,
   "metadata": {},
   "outputs": [],
   "source": [
    "# Pick the regression model we want to use\n",
    "\n",
    "# Decision Tree Regression\n",
    "# https://scikit-learn.org/stable/modules/generated/sklearn.tree.DecisionTreeRegressor.html\n",
    "# model = tree.DecisionTreeRegressor(random_state=2020)\n",
    "\n",
    "# Random Forest Regression\n",
    "# https://scikit-learn.org/stable/modules/generated/sklearn.ensemble.RandomForestRegressor.html\n",
    "# model = ensemble.RandomForestRegressor(random_state=2020, n_estimators=100)"
   ]
  },
  {
   "cell_type": "code",
   "execution_count": null,
   "metadata": {},
   "outputs": [],
   "source": [
    "# Split training into some for training and some for testing\n",
    "# https://scikit-learn.org/stable/modules/generated/sklearn.model_selection.train_test_split.html\n",
    "\n",
    "#TODO TODO TODO TODO TODO TODO TODO TODO\n",
    "\n",
    "print(\"training split: \", len(Xtrain), \"; test split: \", len(Xtest))\n",
    "\n"
   ]
  },
  {
   "cell_type": "code",
   "execution_count": null,
   "metadata": {},
   "outputs": [],
   "source": [
    "# Perform regression on the data\n",
    "model.fit(Xtrain, ytrain) #TODO TODO TODO TODO TODO TODO TODO TODO"
   ]
  },
  {
   "cell_type": "code",
   "execution_count": null,
   "metadata": {},
   "outputs": [],
   "source": [
    "# Score model\n",
    "model.score(Xtest, ytest) #TODO TODO TODO TODO TODO TODO TODO TODO"
   ]
  },
  {
   "cell_type": "markdown",
   "metadata": {},
   "source": [
    "# Predict for Testing data"
   ]
  },
  {
   "cell_type": "code",
   "execution_count": null,
   "metadata": {},
   "outputs": [],
   "source": [
    "# Clean Data\n",
    "\n",
    "# Drops missing values \n",
    "#TODO TODO TODO TODO TODO TODO TODO TODO\n",
    "\n",
    "# Convert strings to numbers\n",
    "#TODO TODO TODO TODO TODO TODO TODO TODO\n",
    "\n",
    "# Read more advanced ways to clean data\n",
    "# https://scikit-learn.org/stable/modules/generated/sklearn.preprocessing.LabelEncoder.html\n",
    "# https://stackoverflow.com/questions/24458645/label-encoding-across-multiple-columns-in-scikit-learn"
   ]
  },
  {
   "cell_type": "code",
   "execution_count": null,
   "metadata": {},
   "outputs": [],
   "source": [
    "# Select features\n",
    "XforPredictions = None #TODO TODO TODO TODO TODO TODO TODO TODO\n",
    "XforPredictions.head()"
   ]
  },
  {
   "cell_type": "code",
   "execution_count": null,
   "metadata": {},
   "outputs": [],
   "source": [
    "# Make Predictions!\n",
    "yPredictions = None #TODO TODO TODO TODO TODO TODO TODO TODO\n",
    "print(\"Predictions:\", yPredictions)"
   ]
  },
  {
   "cell_type": "code",
   "execution_count": null,
   "metadata": {},
   "outputs": [],
   "source": [
    "# Save to CSV File!\n",
    "output = pd.DataFrame({'id': XforPredictions.index, 'AveragePrice': yPredictions})\n",
    "output.to_csv('avocado-submission.csv', index=False)\n",
    "print(output)"
   ]
  },
  {
   "cell_type": "markdown",
   "metadata": {},
   "source": [
    "# Upload for grading"
   ]
  },
  {
   "cell_type": "code",
   "execution_count": null,
   "metadata": {},
   "outputs": [],
   "source": [
    "# Download CTFSG Grader Libraries\n",
    "import urllib.request, os\n",
    "urllib.request.urlretrieve('https://raw.githubusercontent.com/alttablabs/ctfsg-utils/master/pyctfsglib.py', './pyctfsglib.py')\n",
    "print('Downloaded pyctfsglib.py:', 'pyctfsglib.py' in os.listdir())"
   ]
  },
  {
   "cell_type": "code",
   "execution_count": null,
   "metadata": {},
   "outputs": [],
   "source": [
    "# Connect to graders\n",
    "import pyctfsglib as ctfsg\n",
    "import random\n",
    "\n",
    "USER_TOKEN = \"BLnMfacYpsCWrIDWMDNlysDhKMpumnYoldUyhyKlCcJLfeiyeKEvhzxuivdCMwky\" # You need to fill this up\n",
    "GRADER_URL = random.choice([ # Check if these are correct GRADER URLS for the specific challenge\n",
    "    \"http://3qo9k5hk5cprtqvnlkvotlnj9d14b7mt.ctf.sg:60010/\",\n",
    "    \"http://3qo9k5hk5cprtqvnlkvotlnj9d14b7mt.ctf.sg:60011/\"\n",
    "])\n",
    "\n",
    "grader = ctfsg.DSGraderClient(GRADER_URL, USER_TOKEN)"
   ]
  },
  {
   "cell_type": "code",
   "execution_count": null,
   "metadata": {},
   "outputs": [],
   "source": [
    "grader.submitFile('avocado-submission.csv')"
   ]
  },
  {
   "cell_type": "code",
   "execution_count": null,
   "metadata": {},
   "outputs": [],
   "source": []
  }
 ],
 "metadata": {
  "kernelspec": {
   "display_name": "Python 3",
   "language": "python",
   "name": "python3"
  },
  "language_info": {
   "codemirror_mode": {
    "name": "ipython",
    "version": 3
   },
   "file_extension": ".py",
   "mimetype": "text/x-python",
   "name": "python",
   "nbconvert_exporter": "python",
   "pygments_lexer": "ipython3",
   "version": "3.7.4"
  }
 },
 "nbformat": 4,
 "nbformat_minor": 2
}