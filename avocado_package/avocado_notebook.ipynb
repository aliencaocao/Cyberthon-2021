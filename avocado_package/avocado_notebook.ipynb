{
 "cells": [
  {
   "cell_type": "markdown",
   "metadata": {},
   "source": [
    "# Avocado Data Analysis Notebook\n",
    "ALT-TAB LABS LLP &copy; 2020 All Rights Reserved"
   ]
  },
  {
   "cell_type": "code",
   "execution_count": 33,
   "metadata": {},
   "outputs": [],
   "source": [
    "# load csvs\n",
    "import pandas as pd\n",
    "df_train = pd.read_csv('avocado-train.csv', index_col='id')"
   ]
  },
  {
   "cell_type": "code",
   "execution_count": 34,
   "metadata": {
    "scrolled": true
   },
   "outputs": [
    {
     "data": {
      "text/plain": "          DataBatch   TotalVolume          4046          4225          4770  \\\ncount  12774.000000  1.277400e+04  1.277400e+04  1.277400e+04  1.277400e+04   \nmean      24.160561  8.372151e+05  2.860019e+05  2.937244e+05  2.269924e+04   \nstd       15.506127  3.456893e+06  1.254180e+06  1.221050e+06  1.109128e+05   \nmin        0.000000  3.855500e+02  0.000000e+00  0.000000e+00  0.000000e+00   \n25%       10.000000  1.081454e+04  8.546775e+02  2.963293e+03  0.000000e+00   \n50%       24.000000  1.069675e+05  8.640510e+03  2.893430e+04  1.803650e+02   \n75%       38.000000  4.196674e+05  1.090417e+05  1.436499e+05  6.045980e+03   \nmax       52.000000  5.228870e+07  1.893304e+07  2.047057e+07  2.546439e+06   \n\n          TotalBags     SmallBags     LargeBags     XLargeBags  AveragePrice  \ncount  1.277400e+04  1.277400e+04  1.277400e+04   12774.000000  12774.000000  \nmean   2.347873e+05  1.783168e+05  5.341248e+04    3058.006595      1.407545  \nstd    9.815942e+05  7.427216e+05  2.421722e+05   18243.520401      0.403474  \nmin    0.000000e+00  0.000000e+00  0.000000e+00       0.000000      0.480000  \n25%    5.011590e+03  2.826270e+03  1.229900e+02       0.000000      1.100000  \n50%    3.922292e+04  2.589329e+04  2.603385e+03       0.000000      1.370000  \n75%    1.079063e+05  8.184397e+04  2.142326e+04     113.352500      1.660000  \nmax    1.597249e+07  1.171281e+07  4.081398e+06  551693.650000      3.250000  ",
      "text/html": "<div>\n<style scoped>\n    .dataframe tbody tr th:only-of-type {\n        vertical-align: middle;\n    }\n\n    .dataframe tbody tr th {\n        vertical-align: top;\n    }\n\n    .dataframe thead th {\n        text-align: right;\n    }\n</style>\n<table border=\"1\" class=\"dataframe\">\n  <thead>\n    <tr style=\"text-align: right;\">\n      <th></th>\n      <th>DataBatch</th>\n      <th>TotalVolume</th>\n      <th>4046</th>\n      <th>4225</th>\n      <th>4770</th>\n      <th>TotalBags</th>\n      <th>SmallBags</th>\n      <th>LargeBags</th>\n      <th>XLargeBags</th>\n      <th>AveragePrice</th>\n    </tr>\n  </thead>\n  <tbody>\n    <tr>\n      <th>count</th>\n      <td>12774.000000</td>\n      <td>1.277400e+04</td>\n      <td>1.277400e+04</td>\n      <td>1.277400e+04</td>\n      <td>1.277400e+04</td>\n      <td>1.277400e+04</td>\n      <td>1.277400e+04</td>\n      <td>1.277400e+04</td>\n      <td>12774.000000</td>\n      <td>12774.000000</td>\n    </tr>\n    <tr>\n      <th>mean</th>\n      <td>24.160561</td>\n      <td>8.372151e+05</td>\n      <td>2.860019e+05</td>\n      <td>2.937244e+05</td>\n      <td>2.269924e+04</td>\n      <td>2.347873e+05</td>\n      <td>1.783168e+05</td>\n      <td>5.341248e+04</td>\n      <td>3058.006595</td>\n      <td>1.407545</td>\n    </tr>\n    <tr>\n      <th>std</th>\n      <td>15.506127</td>\n      <td>3.456893e+06</td>\n      <td>1.254180e+06</td>\n      <td>1.221050e+06</td>\n      <td>1.109128e+05</td>\n      <td>9.815942e+05</td>\n      <td>7.427216e+05</td>\n      <td>2.421722e+05</td>\n      <td>18243.520401</td>\n      <td>0.403474</td>\n    </tr>\n    <tr>\n      <th>min</th>\n      <td>0.000000</td>\n      <td>3.855500e+02</td>\n      <td>0.000000e+00</td>\n      <td>0.000000e+00</td>\n      <td>0.000000e+00</td>\n      <td>0.000000e+00</td>\n      <td>0.000000e+00</td>\n      <td>0.000000e+00</td>\n      <td>0.000000</td>\n      <td>0.480000</td>\n    </tr>\n    <tr>\n      <th>25%</th>\n      <td>10.000000</td>\n      <td>1.081454e+04</td>\n      <td>8.546775e+02</td>\n      <td>2.963293e+03</td>\n      <td>0.000000e+00</td>\n      <td>5.011590e+03</td>\n      <td>2.826270e+03</td>\n      <td>1.229900e+02</td>\n      <td>0.000000</td>\n      <td>1.100000</td>\n    </tr>\n    <tr>\n      <th>50%</th>\n      <td>24.000000</td>\n      <td>1.069675e+05</td>\n      <td>8.640510e+03</td>\n      <td>2.893430e+04</td>\n      <td>1.803650e+02</td>\n      <td>3.922292e+04</td>\n      <td>2.589329e+04</td>\n      <td>2.603385e+03</td>\n      <td>0.000000</td>\n      <td>1.370000</td>\n    </tr>\n    <tr>\n      <th>75%</th>\n      <td>38.000000</td>\n      <td>4.196674e+05</td>\n      <td>1.090417e+05</td>\n      <td>1.436499e+05</td>\n      <td>6.045980e+03</td>\n      <td>1.079063e+05</td>\n      <td>8.184397e+04</td>\n      <td>2.142326e+04</td>\n      <td>113.352500</td>\n      <td>1.660000</td>\n    </tr>\n    <tr>\n      <th>max</th>\n      <td>52.000000</td>\n      <td>5.228870e+07</td>\n      <td>1.893304e+07</td>\n      <td>2.047057e+07</td>\n      <td>2.546439e+06</td>\n      <td>1.597249e+07</td>\n      <td>1.171281e+07</td>\n      <td>4.081398e+06</td>\n      <td>551693.650000</td>\n      <td>3.250000</td>\n    </tr>\n  </tbody>\n</table>\n</div>"
     },
     "execution_count": 34,
     "metadata": {},
     "output_type": "execute_result"
    }
   ],
   "source": [
    "# View the data!\n",
    "df_train.head()\n",
    "df_train.describe()"
   ]
  },
  {
   "cell_type": "code",
   "execution_count": 35,
   "metadata": {},
   "outputs": [
    {
     "name": "stdout",
     "output_type": "stream",
     "text": [
      "{'NewOrleansMobile': 1, 'HarrisburgScranton': 2, 'Atlanta': 3, 'BuffaloRochester': 4, 'Pittsburgh': 5, 'Jacksonville': 6, 'Columbus': 7, 'Denver': 8, 'West': 9, 'DallasFtWorth': 10, 'Syracuse': 11, 'GrandRapids': 12, 'Detroit': 13, 'GreatLakes': 14, 'MiamiFtLauderdale': 15, 'SouthCentral': 16, 'NewYork': 17, 'HartfordSpringfield': 18, 'Sacramento': 19, 'Boston': 20, 'RaleighGreensboro': 21, 'TotalUS': 22, 'Roanoke': 23, 'Philadelphia': 24, 'Spokane': 25, 'LosAngeles': 26, 'Nashville': 27, 'NorthernNewEngland': 28, 'Chicago': 29, 'Houston': 30, 'Plains': 31, 'BaltimoreWashington': 32, 'CincinnatiDayton': 33, 'WestTexNewMexico': 34, 'Portland': 35, 'StLouis': 36, 'Southeast': 37, 'Seattle': 38, 'SouthCarolina': 39, 'Tampa': 40, 'California': 41, 'Northeast': 42, 'Orlando': 43, 'Charlotte': 44, 'LasVegas': 45, 'SanDiego': 46, 'Boise': 47, 'PhoenixTucson': 48, 'Albany': 49, 'RichmondNorfolk': 50, 'Indianapolis': 51, 'Louisville': 52, 'SanFrancisco': 53, 'Midsouth': 54}\n"
     ]
    }
   ],
   "source": [
    "# Clean Data\n",
    "\n",
    "# Drops missing values \n",
    "df_train = df_train.dropna(axis=0)\n",
    "\n",
    "# Convert strings to numbers\n",
    "types = {'conventional': 0, 'organic': 1}\n",
    "df_train.type = [types[x] for x in df_train.type]\n",
    "regions = df_train.region.unique()\n",
    "regionDict = {}\n",
    "id=1\n",
    "for region in regions:\n",
    "    regionDict[region] = id\n",
    "    id+=1\n",
    "print(regionDict)\n",
    "df_train.region = [regionDict[x] for x in df_train.region]\n",
    "df_train['year'] = [x[:4] for x in df_train.Date]\n",
    "df_train['month'] = [x[5:7] for x in df_train.Date]\n",
    "\n",
    "# Read more advanced ways to clean data\n",
    "# https://scikit-learn.org/stable/modules/generated/sklearn.preprocessing.LabelEncoder.html\n",
    "# https://stackoverflow.com/questions/24458645/label-encoding-across-multiple-columns-in-scikit-learn"
   ]
  },
  {
   "cell_type": "code",
   "execution_count": 36,
   "metadata": {},
   "outputs": [],
   "source": [
    "# Select data for learning\n",
    "features = ['TotalVolume', 'SmallBags', 'LargeBags', 'region', '4046', '4225', '4770', 'DataBatch', 'year', 'month']\n",
    "target = 'AveragePrice'\n",
    "\n",
    "X = df_train[features]\n",
    "y = df_train[target]"
   ]
  },
  {
   "cell_type": "markdown",
   "metadata": {},
   "source": [
    "# Regression Time!"
   ]
  },
  {
   "cell_type": "code",
   "execution_count": 37,
   "metadata": {},
   "outputs": [],
   "source": [
    "# Sci Kit Learn! Scientific Computing library for python\n",
    "from sklearn import *"
   ]
  },
  {
   "cell_type": "code",
   "execution_count": 38,
   "metadata": {},
   "outputs": [],
   "source": [
    "# Pick the regression model we want to use\n",
    "\n",
    "# Decision Tree Regression\n",
    "# https://scikit-learn.org/stable/modules/generated/sklearn.tree.DecisionTreeRegressor.html\n",
    "# model = tree.DecisionTreeRegressor(random_state=2020)\n",
    "\n",
    "# Random Forest Regression\n",
    "# https://scikit-learn.org/stable/modules/generated/sklearn.ensemble.RandomForestRegressor.html\n",
    "model = ensemble.ExtraTreesRegressor(random_state=2021, n_estimators=700, criterion='mse', verbose=1, n_jobs=int(16))\n",
    "# model = ensemble.AdaBoostRegressor(base_estimator=model, n_estimators=10)"
   ]
  },
  {
   "cell_type": "code",
   "execution_count": 39,
   "metadata": {},
   "outputs": [
    {
     "name": "stdout",
     "output_type": "stream",
     "text": [
      "training split:  127 ; test split:  12647\n"
     ]
    }
   ],
   "source": [
    "# Split training into some for training and some for testing\n",
    "# https://scikit-learn.org/stable/modules/generated/sklearn.model_selection.train_test_split.html\n",
    "\n",
    "Xtrain, Xtest, ytrain, ytest = model_selection.train_test_split(X, y, test_size=0.99, random_state=2021)\n",
    "\n",
    "print(\"training split: \", len(Xtrain), \"; test split: \", len(Xtest))\n",
    "\n"
   ]
  },
  {
   "cell_type": "code",
   "execution_count": 40,
   "metadata": {},
   "outputs": [
    {
     "name": "stderr",
     "output_type": "stream",
     "text": [
      "[Parallel(n_jobs=16)]: Using backend ThreadingBackend with 16 concurrent workers.\n",
      "[Parallel(n_jobs=16)]: Done  18 tasks      | elapsed:    0.1s\n",
      "[Parallel(n_jobs=16)]: Done 168 tasks      | elapsed:    1.2s\n",
      "[Parallel(n_jobs=16)]: Done 418 tasks      | elapsed:    3.0s\n",
      "[Parallel(n_jobs=16)]: Done 700 out of 700 | elapsed:    4.8s finished\n"
     ]
    },
    {
     "data": {
      "text/plain": "ExtraTreesRegressor(n_estimators=700, n_jobs=16, random_state=2021, verbose=1)"
     },
     "execution_count": 40,
     "metadata": {},
     "output_type": "execute_result"
    }
   ],
   "source": [
    "# Perform regression on the data\n",
    "model.fit(X, y) #TODO TODO TODO TODO TODO TODO TODO TODO"
   ]
  },
  {
   "cell_type": "code",
   "execution_count": 41,
   "metadata": {},
   "outputs": [
    {
     "name": "stderr",
     "output_type": "stream",
     "text": [
      "[Parallel(n_jobs=16)]: Using backend ThreadingBackend with 16 concurrent workers.\n",
      "[Parallel(n_jobs=16)]: Done  18 tasks      | elapsed:    0.0s\n",
      "[Parallel(n_jobs=16)]: Done 168 tasks      | elapsed:    0.2s\n",
      "[Parallel(n_jobs=16)]: Done 418 tasks      | elapsed:    0.5s\n",
      "[Parallel(n_jobs=16)]: Done 700 out of 700 | elapsed:    0.9s finished\n"
     ]
    },
    {
     "data": {
      "text/plain": "1.0"
     },
     "execution_count": 41,
     "metadata": {},
     "output_type": "execute_result"
    }
   ],
   "source": [
    "# Score model\n",
    "model.score(Xtest, ytest) #TODO TODO TODO TODO TODO TODO TODO TODO"
   ]
  },
  {
   "cell_type": "markdown",
   "metadata": {},
   "source": [
    "# Predict for Testing data"
   ]
  },
  {
   "cell_type": "code",
   "execution_count": 42,
   "metadata": {},
   "outputs": [],
   "source": [
    "df_test = pd.read_csv('avocado-test.csv', index_col='id')\n",
    "# Clean Data\n",
    "\n",
    "# Drops missing values\n",
    "df_test = df_test.dropna(axis=0)\n",
    "\n",
    "# Convert strings to numbers\n",
    "types = {'conventional': 0, 'organic': 1}\n",
    "df_test.type = [types[x] for x in df_test.type]\n",
    "regions = df_test.region.unique()\n",
    "for region in regions:\n",
    "    if region not in regionDict.keys():\n",
    "        regionDict[region] = 0\n",
    "df_test.region = [regionDict[x] for x in df_test.region]\n",
    "df_test['year'] = [x[0:4] for x in df_test.Date]\n",
    "df_test['month'] = [x[5:7] for x in df_test.Date]\n",
    "# Read more advanced ways to clean data\n",
    "# https://scikit-learn.org/stable/modules/generated/sklearn.preprocessing.LabelEncoder.html\n",
    "# https://stackoverflow.com/questions/24458645/label-encoding-across-multiple-columns-in-scikit-learn"
   ]
  },
  {
   "cell_type": "code",
   "execution_count": 43,
   "metadata": {},
   "outputs": [
    {
     "data": {
      "text/plain": "    TotalVolume  SmallBags  LargeBags  region     4046       4225     4770  \\\nid                                                                           \n0      28969.34    1526.66       0.00      29    80.77   27361.91     0.00   \n1     322962.89   22942.48   46083.51      28  5632.85  242365.82  2441.56   \n2     155334.45   27302.29   50305.72      14  3657.79   74068.65     0.00   \n3      10231.74     303.33    1067.52      33   341.89    8519.00     0.00   \n4      10652.02    3706.55       0.00      30  6905.95      39.52     0.00   \n\n    DataBatch  year month  \nid                         \n0          21  2016    07  \n1          19  2017    08  \n2          49  2017    01  \n3          12  2015    10  \n4          10  2015    10  ",
      "text/html": "<div>\n<style scoped>\n    .dataframe tbody tr th:only-of-type {\n        vertical-align: middle;\n    }\n\n    .dataframe tbody tr th {\n        vertical-align: top;\n    }\n\n    .dataframe thead th {\n        text-align: right;\n    }\n</style>\n<table border=\"1\" class=\"dataframe\">\n  <thead>\n    <tr style=\"text-align: right;\">\n      <th></th>\n      <th>TotalVolume</th>\n      <th>SmallBags</th>\n      <th>LargeBags</th>\n      <th>region</th>\n      <th>4046</th>\n      <th>4225</th>\n      <th>4770</th>\n      <th>DataBatch</th>\n      <th>year</th>\n      <th>month</th>\n    </tr>\n    <tr>\n      <th>id</th>\n      <th></th>\n      <th></th>\n      <th></th>\n      <th></th>\n      <th></th>\n      <th></th>\n      <th></th>\n      <th></th>\n      <th></th>\n      <th></th>\n    </tr>\n  </thead>\n  <tbody>\n    <tr>\n      <th>0</th>\n      <td>28969.34</td>\n      <td>1526.66</td>\n      <td>0.00</td>\n      <td>29</td>\n      <td>80.77</td>\n      <td>27361.91</td>\n      <td>0.00</td>\n      <td>21</td>\n      <td>2016</td>\n      <td>07</td>\n    </tr>\n    <tr>\n      <th>1</th>\n      <td>322962.89</td>\n      <td>22942.48</td>\n      <td>46083.51</td>\n      <td>28</td>\n      <td>5632.85</td>\n      <td>242365.82</td>\n      <td>2441.56</td>\n      <td>19</td>\n      <td>2017</td>\n      <td>08</td>\n    </tr>\n    <tr>\n      <th>2</th>\n      <td>155334.45</td>\n      <td>27302.29</td>\n      <td>50305.72</td>\n      <td>14</td>\n      <td>3657.79</td>\n      <td>74068.65</td>\n      <td>0.00</td>\n      <td>49</td>\n      <td>2017</td>\n      <td>01</td>\n    </tr>\n    <tr>\n      <th>3</th>\n      <td>10231.74</td>\n      <td>303.33</td>\n      <td>1067.52</td>\n      <td>33</td>\n      <td>341.89</td>\n      <td>8519.00</td>\n      <td>0.00</td>\n      <td>12</td>\n      <td>2015</td>\n      <td>10</td>\n    </tr>\n    <tr>\n      <th>4</th>\n      <td>10652.02</td>\n      <td>3706.55</td>\n      <td>0.00</td>\n      <td>30</td>\n      <td>6905.95</td>\n      <td>39.52</td>\n      <td>0.00</td>\n      <td>10</td>\n      <td>2015</td>\n      <td>10</td>\n    </tr>\n  </tbody>\n</table>\n</div>"
     },
     "execution_count": 43,
     "metadata": {},
     "output_type": "execute_result"
    }
   ],
   "source": [
    "# Select features\n",
    "XforPredictions = df_test[features] #TODO TODO TODO TODO TODO TODO TODO TODO\n",
    "XforPredictions.head()"
   ]
  },
  {
   "cell_type": "code",
   "execution_count": 44,
   "metadata": {},
   "outputs": [
    {
     "name": "stderr",
     "output_type": "stream",
     "text": [
      "[Parallel(n_jobs=16)]: Using backend ThreadingBackend with 16 concurrent workers.\n",
      "[Parallel(n_jobs=16)]: Done  18 tasks      | elapsed:    0.0s\n",
      "[Parallel(n_jobs=16)]: Done 168 tasks      | elapsed:    0.0s\n",
      "[Parallel(n_jobs=16)]: Done 418 tasks      | elapsed:    0.1s\n"
     ]
    },
    {
     "name": "stdout",
     "output_type": "stream",
     "text": [
      "Predictions: [1.92704286 1.64825714 1.21047143 ... 1.52737143 1.80507143 1.61412857]\n"
     ]
    },
    {
     "name": "stderr",
     "output_type": "stream",
     "text": [
      "[Parallel(n_jobs=16)]: Done 700 out of 700 | elapsed:    0.2s finished\n"
     ]
    },
    {
     "data": {
      "text/plain": "(array([  97.,  553., 1318., 1128., 1116.,  774.,  324.,  102.,   33.,\n          30.]),\n array([0.54701429, 0.77365429, 1.00029429, 1.22693429, 1.45357429,\n        1.68021429, 1.90685429, 2.13349429, 2.36013429, 2.58677429,\n        2.81341429]),\n <BarContainer object of 10 artists>)"
     },
     "execution_count": 44,
     "metadata": {},
     "output_type": "execute_result"
    },
    {
     "data": {
      "text/plain": "<Figure size 432x288 with 1 Axes>",
      "image/png": "[encoded data removed]"
     },
     "metadata": {
      "needs_background": "light"
     },
     "output_type": "display_data"
    }
   ],
   "source": [
    "# Make Predictions!\n",
    "yPredictions = model.predict(XforPredictions) #TODO TODO TODO TODO TODO TODO TODO TODO\n",
    "print(\"Predictions:\", yPredictions)\n",
    "import matplotlib.pyplot as plt\n",
    "plt.hist(yPredictions)"
   ]
  },
  {
   "cell_type": "code",
   "execution_count": 45,
   "metadata": {},
   "outputs": [
    {
     "name": "stdout",
     "output_type": "stream",
     "text": [
      "        id  AveragePrice\n",
      "0        0      1.927043\n",
      "1        1      1.648257\n",
      "2        2      1.210471\n",
      "3        3      1.563829\n",
      "4        4      1.481486\n",
      "...    ...           ...\n",
      "5470  5470      1.695529\n",
      "5471  5471      1.377214\n",
      "5472  5472      1.527371\n",
      "5473  5473      1.805071\n",
      "5474  5474      1.614129\n",
      "\n",
      "[5475 rows x 2 columns]\n"
     ]
    }
   ],
   "source": [
    "# Save to CSV File!\n",
    "output = pd.DataFrame({'id': XforPredictions.index, 'AveragePrice': yPredictions})\n",
    "output.to_csv('avocado-submission.csv', index=False)\n",
    "print(output)"
   ]
  },
  {
   "cell_type": "markdown",
   "metadata": {},
   "source": [
    "# Upload for grading"
   ]
  },
  {
   "cell_type": "code",
   "execution_count": 46,
   "metadata": {},
   "outputs": [],
   "source": [
    "# Download CTFSG Grader Libraries\n",
    "# import urllib.request, os\n",
    "# urllib.request.urlretrieve('https://raw.githubusercontent.com/alttablabs/ctfsg-utils/master/pyctfsglib.py', './pyctfsglib.py')\n",
    "# print('Downloaded pyctfsglib.py:', 'pyctfsglib.py' in os.listdir())"
   ]
  },
  {
   "cell_type": "code",
   "execution_count": 47,
   "metadata": {},
   "outputs": [
    {
     "name": "stdout",
     "output_type": "stream",
     "text": [
      "DSGraderClient: Successfully Connected!\n",
      "[SERVER] MOTD: CHECK your USER_TOKEN and GRADER_URL HTTP address! I'm AVOCADO_PRICE @e65b946b172c\n"
     ]
    }
   ],
   "source": [
    "# Connect to graders\n",
    "import sys\n",
    "# insert at 1, 0 is the script path (or '' in REPL)\n",
    "sys.path.insert(1, 'C:/Users/alien/Documents/PyCharm Projects/Cyberthon 2021/pyctfsglib.py')\n",
    "import pyctfsglib as ctfsg\n",
    "import random\n",
    "\n",
    "USER_TOKEN = \"BLnMfacYpsCWrIDWMDNlysDhKMpumnYoldUyhyKlCcJLfeiyeKEvhzxuivdCMwky\" # You need to fill this up\n",
    "GRADER_URL = random.choice([ # Check if these are correct GRADER URLS for the specific challenge\n",
    "    \"http://3qo9k5hk5cprtqvnlkvotlnj9d14b7mt.ctf.sg:60010/\",\n",
    "    \"http://3qo9k5hk5cprtqvnlkvotlnj9d14b7mt.ctf.sg:60011/\"\n",
    "])\n",
    "\n",
    "grader = ctfsg.DSGraderClient(GRADER_URL, USER_TOKEN)"
   ]
  },
  {
   "cell_type": "code",
   "execution_count": 48,
   "metadata": {},
   "outputs": [
    {
     "name": "stdout",
     "output_type": "stream",
     "text": [
      "ProofOfWork Challenge =>  ('CTFSGRB86a0caa574be847ab86d5bb115da0771', 22)\n",
      "ProofOfWork Answer Found! =>  7573801\n"
     ]
    },
    {
     "data": {
      "text/plain": "'{\"challenge\":{\"name\":\"AvocadoRegression\"},\"id\":\"cknbk1pq1ccji08241mp3zzte\",\"status\":\"PARTIALLY_CORRECT\",\"multiplier\":0.9283,\"submittedBy\":{\"username\":\"hci-37\"},\"createdAt\":\"2021-04-10T09:47:55Z\"}'"
     },
     "execution_count": 48,
     "metadata": {},
     "output_type": "execute_result"
    }
   ],
   "source": [
    "grader.submitFile('avocado-submission.csv')"
   ]
  },
  {
   "cell_type": "code",
   "execution_count": 48,
   "metadata": {},
   "outputs": [],
   "source": []
  }
 ],
 "metadata": {
  "kernelspec": {
   "display_name": "Python 3",
   "language": "python",
   "name": "python3"
  },
  "language_info": {
   "codemirror_mode": {
    "name": "ipython",
    "version": 3
   },
   "file_extension": ".py",
   "mimetype": "text/x-python",
   "name": "python",
   "nbconvert_exporter": "python",
   "pygments_lexer": "ipython3",
   "version": "3.7.4"
  }
 },
 "nbformat": 4,
 "nbformat_minor": 2
}